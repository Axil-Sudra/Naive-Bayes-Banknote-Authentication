{
 "cells": [
  {
   "cell_type": "markdown",
   "metadata": {},
   "source": [
    "# Banknote Authentication with Naïve Bayes"
   ]
  },
  {
   "cell_type": "markdown",
   "metadata": {},
   "source": [
    "In this notebook, we will use the build a Naïve Bayes classifier that will help us classify whether a banknote is genuine or fraudulent based on a range of statistical features. Note that the dataset used in this notebook can be obtained from the [UCI Machine Learning Repository](https://archive.ics.uci.edu/ml/datasets/banknote+authentication#)."
   ]
  },
  {
   "cell_type": "markdown",
   "metadata": {},
   "source": [
    "## What is a Naïve Bayes Classifier?\n",
    "\n",
    "A Naïve Bayes classifier is a simple probabilistic machine learning algorithm based on Bayes' theorem with the naive assumption of conditional independence between predictors in any given dataset.\n",
    "\n",
    "The Naïve Bayes classifier can be described by a 'decision rule': given a vector $X = (x_1, x_2, ..., x_n)$ of $n$ predictors and a vector $C = (c_1, c_2, ..., c_n)$, Naïve Bayes classifier is defined as\n",
    "\n",
    "$$\n",
    "C_{NB_{MAP}} = \\underset{K = \\{1, ..., k\\}}{\\operatorname{argmax}} p(c_{K}) \\prod^{n}_{i = 1} p(x_{i} \\mid c_{K}),\n",
    "$$\n",
    "\n",
    "where $C_{NB_{MAP}}$ is the 'Maximum a Posteriori', $p(c_{K})$ is the prior probability (of the class $c_{K}$), and $\\prod^{n}_{i = 1} p(x_{i} \\mid c_{K})$ is the likelihood. \n",
    "\n",
    "Note that Naïve Bayes is a supervised machine learning algorithm; that is, we train the model using a labelled dataset."
   ]
  },
  {
   "cell_type": "markdown",
   "metadata": {},
   "source": [
    "## Import Packages\n",
    "\n",
    "In order to import the dataset into Python, visualize the data, etc. we need to import the necessary Python packages into this notebook."
   ]
  },
  {
   "cell_type": "code",
   "execution_count": 1,
   "metadata": {},
   "outputs": [],
   "source": [
    "# import packages \n",
    "import pandas as pd\n",
    "import matplotlib.pyplot as plt\n",
    "import seaborn as sns\n",
    "import numpy as np\n",
    "from math import sqrt, pi, exp\n",
    "import random"
   ]
  },
  {
   "cell_type": "markdown",
   "metadata": {},
   "source": [
    "## Set Random Seed\n",
    "\n",
    "For reproducibility of results, we are required to set the random seed"
   ]
  },
  {
   "cell_type": "code",
   "execution_count": 2,
   "metadata": {},
   "outputs": [],
   "source": [
    "np.random.seed(10)"
   ]
  },
  {
   "cell_type": "markdown",
   "metadata": {},
   "source": [
    "## Dataset\n",
    "\n",
    "The 'banknote authentication' dataset consists of four continuous predictors which are based on images of genuine and fraudulent banknotes; these are listed below:\n",
    "- Variance of Wavelet Transformed image\n",
    "- Skewness of Wavelet Transformed image\n",
    "- Kurtosis of Wavelet Transformed image\n",
    "- Entropy of image\n",
    "\n",
    "Note that Wavelet Transformations have been used to \"gain and analyze the spectral components of banknote representations\". Also note that observations belonging to class '0' are genuine banknotes, and observations belonging to class '1' are fraudulent banknotes.\n",
    "\n",
    "The dataset has been stored in text file format; in order to analyze and model, we will read the data into a pandas dataframe. Once the data is accessible via a dataframe, the required data wrangling/processing and exploratory data analysis will be completed."
   ]
  },
  {
   "cell_type": "code",
   "execution_count": 3,
   "metadata": {},
   "outputs": [
    {
     "data": {
      "text/html": [
       "<div>\n",
       "<style scoped>\n",
       "    .dataframe tbody tr th:only-of-type {\n",
       "        vertical-align: middle;\n",
       "    }\n",
       "\n",
       "    .dataframe tbody tr th {\n",
       "        vertical-align: top;\n",
       "    }\n",
       "\n",
       "    .dataframe thead th {\n",
       "        text-align: right;\n",
       "    }\n",
       "</style>\n",
       "<table border=\"1\" class=\"dataframe\">\n",
       "  <thead>\n",
       "    <tr style=\"text-align: right;\">\n",
       "      <th></th>\n",
       "      <th>0</th>\n",
       "      <th>1</th>\n",
       "      <th>2</th>\n",
       "      <th>3</th>\n",
       "      <th>4</th>\n",
       "    </tr>\n",
       "  </thead>\n",
       "  <tbody>\n",
       "    <tr>\n",
       "      <td>0</td>\n",
       "      <td>3.62160</td>\n",
       "      <td>8.6661</td>\n",
       "      <td>-2.8073</td>\n",
       "      <td>-0.44699</td>\n",
       "      <td>0</td>\n",
       "    </tr>\n",
       "    <tr>\n",
       "      <td>1</td>\n",
       "      <td>4.54590</td>\n",
       "      <td>8.1674</td>\n",
       "      <td>-2.4586</td>\n",
       "      <td>-1.46210</td>\n",
       "      <td>0</td>\n",
       "    </tr>\n",
       "    <tr>\n",
       "      <td>2</td>\n",
       "      <td>3.86600</td>\n",
       "      <td>-2.6383</td>\n",
       "      <td>1.9242</td>\n",
       "      <td>0.10645</td>\n",
       "      <td>0</td>\n",
       "    </tr>\n",
       "    <tr>\n",
       "      <td>3</td>\n",
       "      <td>3.45660</td>\n",
       "      <td>9.5228</td>\n",
       "      <td>-4.0112</td>\n",
       "      <td>-3.59440</td>\n",
       "      <td>0</td>\n",
       "    </tr>\n",
       "    <tr>\n",
       "      <td>4</td>\n",
       "      <td>0.32924</td>\n",
       "      <td>-4.4552</td>\n",
       "      <td>4.5718</td>\n",
       "      <td>-0.98880</td>\n",
       "      <td>0</td>\n",
       "    </tr>\n",
       "  </tbody>\n",
       "</table>\n",
       "</div>"
      ],
      "text/plain": [
       "         0       1       2        3  4\n",
       "0  3.62160  8.6661 -2.8073 -0.44699  0\n",
       "1  4.54590  8.1674 -2.4586 -1.46210  0\n",
       "2  3.86600 -2.6383  1.9242  0.10645  0\n",
       "3  3.45660  9.5228 -4.0112 -3.59440  0\n",
       "4  0.32924 -4.4552  4.5718 -0.98880  0"
      ]
     },
     "metadata": {},
     "output_type": "display_data"
    }
   ],
   "source": [
    "# read dataset into pandas dataframe\n",
    "banknote_data = pd.read_csv('Banknote Authentication.txt', sep=',', header=None)\n",
    "# display first few rows of banknote_data\n",
    "display(banknote_data.head())"
   ]
  },
  {
   "cell_type": "code",
   "execution_count": 4,
   "metadata": {},
   "outputs": [
    {
     "data": {
      "text/plain": [
       "WLT Image Variance    0\n",
       "WLT Image Skewness    0\n",
       "WLT Image Kurtosis    0\n",
       "Image Entropy         0\n",
       "Class                 0\n",
       "dtype: int64"
      ]
     },
     "execution_count": 4,
     "metadata": {},
     "output_type": "execute_result"
    }
   ],
   "source": [
    "# rename banknote_data columns\n",
    "# note that WLT is short for Wavelet Transform\n",
    "banknote_data = banknote_data.rename(columns={0:'WLT Image Variance', 1:'WLT Image Skewness', 2:'WLT Image Kurtosis', 3:'Image Entropy', 4:'Class'})\n",
    "\n",
    "# check for any NaN values in banknote_data \n",
    "banknote_data.isnull().sum()"
   ]
  },
  {
   "cell_type": "code",
   "execution_count": 5,
   "metadata": {},
   "outputs": [
    {
     "data": {
      "text/html": [
       "<div>\n",
       "<style scoped>\n",
       "    .dataframe tbody tr th:only-of-type {\n",
       "        vertical-align: middle;\n",
       "    }\n",
       "\n",
       "    .dataframe tbody tr th {\n",
       "        vertical-align: top;\n",
       "    }\n",
       "\n",
       "    .dataframe thead th {\n",
       "        text-align: right;\n",
       "    }\n",
       "</style>\n",
       "<table border=\"1\" class=\"dataframe\">\n",
       "  <thead>\n",
       "    <tr style=\"text-align: right;\">\n",
       "      <th></th>\n",
       "      <th>Number of Observations</th>\n",
       "      <th>Mean</th>\n",
       "      <th>Standard Deviation</th>\n",
       "      <th>Minimum</th>\n",
       "      <th>Maximum</th>\n",
       "    </tr>\n",
       "  </thead>\n",
       "  <tbody>\n",
       "    <tr>\n",
       "      <td>WLT Image Variance</td>\n",
       "      <td>1372</td>\n",
       "      <td>0.433735</td>\n",
       "      <td>2.84276</td>\n",
       "      <td>-7.0421</td>\n",
       "      <td>6.8248</td>\n",
       "    </tr>\n",
       "    <tr>\n",
       "      <td>WLT Image Skewness</td>\n",
       "      <td>1372</td>\n",
       "      <td>1.92235</td>\n",
       "      <td>5.86905</td>\n",
       "      <td>-13.7731</td>\n",
       "      <td>12.9516</td>\n",
       "    </tr>\n",
       "    <tr>\n",
       "      <td>WLT Image Kurtosis</td>\n",
       "      <td>1372</td>\n",
       "      <td>1.39763</td>\n",
       "      <td>4.31003</td>\n",
       "      <td>-5.2861</td>\n",
       "      <td>17.9274</td>\n",
       "    </tr>\n",
       "    <tr>\n",
       "      <td>Image Entropy</td>\n",
       "      <td>1372</td>\n",
       "      <td>-1.19166</td>\n",
       "      <td>2.10101</td>\n",
       "      <td>-8.5482</td>\n",
       "      <td>2.4495</td>\n",
       "    </tr>\n",
       "  </tbody>\n",
       "</table>\n",
       "</div>"
      ],
      "text/plain": [
       "                   Number of Observations      Mean Standard Deviation  \\\n",
       "WLT Image Variance                   1372  0.433735            2.84276   \n",
       "WLT Image Skewness                   1372   1.92235            5.86905   \n",
       "WLT Image Kurtosis                   1372   1.39763            4.31003   \n",
       "Image Entropy                        1372  -1.19166            2.10101   \n",
       "\n",
       "                    Minimum  Maximum  \n",
       "WLT Image Variance  -7.0421   6.8248  \n",
       "WLT Image Skewness -13.7731  12.9516  \n",
       "WLT Image Kurtosis  -5.2861  17.9274  \n",
       "Image Entropy       -8.5482   2.4495  "
      ]
     },
     "metadata": {},
     "output_type": "display_data"
    }
   ],
   "source": [
    "# create a new dataframe to store descriptive statistics of banknote_data (predictor) columns\n",
    "banknote_descriptive_stat = pd.DataFrame(columns=['Number of Observations', 'Mean', 'Standard Deviation', 'Minimum', 'Maximum'],\n",
    "                                         index=['WLT Image Variance', 'WLT Image Skewness', 'WLT Image Kurtosis', 'Image Entropy'])\n",
    "\n",
    "# calculate/retrieve relevant descriptive statistics and store in banknote_descriptive_stat\n",
    "# loop over rows in banknote_descriptive_stat\n",
    "for index, rows in banknote_descriptive_stat.iterrows():\n",
    "    # retrieve number of observations for relevant predictor\n",
    "    banknote_descriptive_stat.loc[index, 'Number of Observations'] = banknote_data[index].count()\n",
    "    # calculate the mean for relevant predictor\n",
    "    banknote_descriptive_stat.loc[index, 'Mean'] = banknote_data[index].mean()\n",
    "    # calculate the standard deviation for relevant predictor\n",
    "    banknote_descriptive_stat.loc[index, 'Standard Deviation'] = banknote_data[index].std()\n",
    "    # retrieve the minimum for relevant predictor\n",
    "    banknote_descriptive_stat.loc[index, 'Minimum'] = banknote_data[index].min()\n",
    "    # retrieve the maximum for relevant predictor\n",
    "    banknote_descriptive_stat.loc[index, 'Maximum'] = banknote_data[index].max()\n",
    "\n",
    "# display banknote_descriptive_stat\n",
    "display(banknote_descriptive_stat)"
   ]
  },
  {
   "cell_type": "code",
   "execution_count": 6,
   "metadata": {},
   "outputs": [
    {
     "data": {
      "image/png": "[encoded data removed]",
      "text/plain": [
       "<Figure size 1080x360 with 4 Axes>"
      ]
     },
     "metadata": {
      "needs_background": "light"
     },
     "output_type": "display_data"
    }
   ],
   "source": [
    "# create boxplots for predictors of banknote_data\n",
    "# pyplot subplots\n",
    "fig, axes = plt.subplots(nrows=1, ncols=4, figsize=(15,5))\n",
    "\n",
    "# plot WLT Image Variance predictor values on boxplot\n",
    "axes[0].boxplot(banknote_data['WLT Image Variance'], patch_artist=True, notch=True)\n",
    "plt.sca(axes[0])\n",
    "plt.xticks([1], ['WLT Image Variance'])\n",
    "plt.ylabel('Value')\n",
    "\n",
    "# plot WLT Image Skewness predictor values on boxplot \n",
    "axes[1].boxplot(banknote_data['WLT Image Skewness'], patch_artist=True, notch=True)\n",
    "plt.sca(axes[1])\n",
    "plt.xticks([1], ['WLT Image Skewness'])\n",
    "\n",
    "# plot WLT Image Kurtosis predictor values on boxplot\n",
    "axes[2].boxplot(banknote_data['WLT Image Kurtosis'], patch_artist=True, notch=True)\n",
    "plt.sca(axes[2])\n",
    "plt.xticks([1], ['WLT Image Kurtosis'])\n",
    "\n",
    "# plot Image Entropy predictor values on boxplot\n",
    "axes[3].boxplot(banknote_data['Image Entropy'], patch_artist=True, notch=True)\n",
    "plt.sca(axes[3])\n",
    "plt.xticks([1], ['Image Entropy'])\n",
    "\n",
    "# adjust spacing properties of subplot\n",
    "fig.subplots_adjust(left=0.05, right=0.95, bottom=0.1, top=0.9,\n",
    "                    hspace=0.2, wspace=0.2)\n",
    "# set title of subplot figure\n",
    "fig.suptitle('Predictor Boxplots')\n",
    "\n",
    "# display boxplots\n",
    "plt.show()"
   ]
  },
  {
   "cell_type": "code",
   "execution_count": 7,
   "metadata": {},
   "outputs": [
    {
     "data": {
      "image/png": "[encoded data removed]",
      "text/plain": [
       "<Figure size 1080x360 with 4 Axes>"
      ]
     },
     "metadata": {
      "needs_background": "light"
     },
     "output_type": "display_data"
    }
   ],
   "source": [
    "# create histograms for predictors of banknote_data\n",
    "# pyplot subplots\n",
    "fig, axes = plt.subplots(nrows=1, ncols=4, figsize=(15,5))\n",
    "\n",
    "# plot WLT Image Variance predictor values on histogram\n",
    "axes[0].hist(banknote_data['WLT Image Variance'], bins=20)\n",
    "plt.sca(axes[0])\n",
    "plt.xlabel('WLT Image Variance Values')\n",
    "plt.ylabel('Frequency')\n",
    "\n",
    "# plot WLT Image Skewness predictor values on histogram\n",
    "axes[1].hist(banknote_data['WLT Image Skewness'], bins=20)\n",
    "plt.sca(axes[1])\n",
    "plt.xlabel('WLT Image Skewness Values')\n",
    "\n",
    "# plot WLT Image Kurtosis predictor values on histogram\n",
    "axes[2].hist(banknote_data['WLT Image Kurtosis'], bins=20)\n",
    "plt.sca(axes[2])\n",
    "plt.xlabel('WLT Image Kurtosis')\n",
    "\n",
    "# plot Image Entropy predictor values on histogram\n",
    "axes[3].hist(banknote_data['Image Entropy'], bins=20)\n",
    "plt.sca(axes[3])\n",
    "plt.xlabel('Image Entropy')\n",
    "\n",
    "# adjust spacing properties of subplot\n",
    "fig.subplots_adjust(left=0.05, right=0.95, bottom=0.1, top=0.9,\n",
    "                    hspace=0.2, wspace=0.2)\n",
    "# set title of subplot figure\n",
    "fig.suptitle('Predictor Histograms')\n",
    "\n",
    "# display histograms\n",
    "plt.show()"
   ]
  },
  {
   "cell_type": "code",
   "execution_count": 8,
   "metadata": {},
   "outputs": [
    {
     "data": {
      "image/png": "[encoded data removed]",
      "text/plain": [
       "<Figure size 360x360 with 2 Axes>"
      ]
     },
     "metadata": {
      "needs_background": "light"
     },
     "output_type": "display_data"
    }
   ],
   "source": [
    "# create correlation heatmap for predictors of banknote_data\n",
    "# pyplot subplots\n",
    "fig, axes = plt.subplots(figsize=(5, 5))\n",
    "\n",
    "# plot seaborn heatmap using pearson's correlation coefficient \n",
    "sns.heatmap(banknote_data.drop(['Class'], axis=1).corr(method='pearson'), cmap='Blues', ax=axes)\n",
    "# adjust rotation of x tick labels and y tick labels\n",
    "axes.set_yticklabels(['WLT Image Variance', 'WLT Image Skewness', 'WLT Image Kurtosis', 'Image Entropy'], rotation=0)\n",
    "axes.set_xticklabels(['WLT Image Variance', 'WLT Image Skewness', 'WLT Image Kurtosis', 'Image Entropy'], rotation=90)\n",
    "\n",
    "# adjust spacing properties of subplot\n",
    "fig.subplots_adjust(left=0.15, right=0.95, bottom=0.1, top=0.9,\n",
    "                    hspace=0.2, wspace=0.2)\n",
    "# set title of subplot figure\n",
    "fig.suptitle('Pearson\\'s Correlation Matrix')\n",
    "\n",
    "# display heatmap\n",
    "plt.show()"
   ]
  },
  {
   "cell_type": "code",
   "execution_count": 9,
   "metadata": {},
   "outputs": [
    {
     "data": {
      "text/html": [
       "<div>\n",
       "<style scoped>\n",
       "    .dataframe tbody tr th:only-of-type {\n",
       "        vertical-align: middle;\n",
       "    }\n",
       "\n",
       "    .dataframe tbody tr th {\n",
       "        vertical-align: top;\n",
       "    }\n",
       "\n",
       "    .dataframe thead th {\n",
       "        text-align: right;\n",
       "    }\n",
       "</style>\n",
       "<table border=\"1\" class=\"dataframe\">\n",
       "  <thead>\n",
       "    <tr style=\"text-align: right;\">\n",
       "      <th></th>\n",
       "      <th>Genuine Observations</th>\n",
       "      <th>Fraudulent Observations</th>\n",
       "    </tr>\n",
       "  </thead>\n",
       "  <tbody>\n",
       "    <tr>\n",
       "      <td>Frequency</td>\n",
       "      <td>762</td>\n",
       "      <td>610</td>\n",
       "    </tr>\n",
       "    <tr>\n",
       "      <td>Proportion</td>\n",
       "      <td>0.56</td>\n",
       "      <td>0.44</td>\n",
       "    </tr>\n",
       "  </tbody>\n",
       "</table>\n",
       "</div>"
      ],
      "text/plain": [
       "           Genuine Observations Fraudulent Observations\n",
       "Frequency                   762                     610\n",
       "Proportion                 0.56                    0.44"
      ]
     },
     "metadata": {},
     "output_type": "display_data"
    }
   ],
   "source": [
    "# retrieve class distribution of banknote_data\n",
    "# create new dataframe to store frequency and proportion of observations belonging to each class (genuine or fraudulent)\n",
    "banknote_class_dist = pd.DataFrame(columns=['Genuine Observations', 'Fraudulent Observations'], \n",
    "                                   index=['Frequency', 'Proportion'])\n",
    "\n",
    "# retrieve frequency of each class\n",
    "genuine_freq = banknote_data.loc[banknote_data['Class']==0, 'Class'].count()\n",
    "fraudulent_freq = banknote_data.loc[banknote_data['Class']==1, 'Class'].count()\n",
    "# calculate proportion of each class\n",
    "genuine_prop = round(genuine_freq/banknote_data['Class'].count(), 2)\n",
    "fraudulent_prop = round(fraudulent_freq/banknote_data['Class'].count(), 2)\n",
    "\n",
    "# store frequency and proportion values in banknote_class_dist\n",
    "banknote_class_dist.loc['Frequency', 'Genuine Observations'] = genuine_freq\n",
    "banknote_class_dist.loc['Frequency', 'Fraudulent Observations'] = fraudulent_freq\n",
    "banknote_class_dist.loc['Proportion', 'Genuine Observations'] =  genuine_prop\n",
    "banknote_class_dist.loc['Proportion', 'Fraudulent Observations'] = fraudulent_prop\n",
    "\n",
    "# display banknote_class_dist\n",
    "display(banknote_class_dist)"
   ]
  },
  {
   "cell_type": "markdown",
   "metadata": {},
   "source": [
    "From the exploratory data analysis conducted, the following points are evident:\n",
    "- The WLT Image Variance and WLT Image Skewness predictors do not contain any outlier values while the WLT Image Kurtosis and Image Entropy predictors do contain a few outlier values.\n",
    "- The histogram plots show that the WLT Image Variance predictor has a normal distribution, whilst the WLT Image Skewness predictor has a 'relative' normal distribution (the data for this predictor is slightly skewed to the left). The WLT Image Kurtosis and Image Entropy predictors have a right-skewed and left-skewed distribution respectively.\n",
    "- From the correlation heatmap, there does not seem to be any pair of predictors that have significant correlation.\n",
    "- There is a small class imbalance in the dataset; there are an addditional 152 observations belonging to the genuine class than the fraudulent class. We will address this next through undersampling the majority class; undersampling should work relatively well here as the dataset is of a good size, and therefore we will only be discarding approximately 11% of the observations in the overall dataset (roughly 20% of the observations belonging to the genuine class)."
   ]
  },
  {
   "cell_type": "markdown",
   "metadata": {},
   "source": [
    "## Undersampling the Majority Class and Spliting Data into Train/Test Set\n",
    "\n",
    "As mentioned previously, we will use undersampling of the majority class to deal with our imbalanced dataset. Furthermore, we will use a 75%/25% split for our training and testing sets respectively; the data will be randomly shuffled and we will ensure that there is roughly a equal distribution of each class in the training and testing set."
   ]
  },
  {
   "cell_type": "code",
   "execution_count": 10,
   "metadata": {},
   "outputs": [
    {
     "data": {
      "image/png": "[encoded data removed]",
      "text/plain": [
       "<Figure size 360x360 with 1 Axes>"
      ]
     },
     "metadata": {
      "needs_background": "light"
     },
     "output_type": "display_data"
    }
   ],
   "source": [
    "# Undersample majority class (genuine banknote observations) to generate balanced dataset\n",
    "# shuffle observations in banknote_data and reset index\n",
    "banknote_data = banknote_data.sample(frac=1, random_state=10).reset_index(drop=True)\n",
    "\n",
    "# obtain indices of genuine observations in banknote_data\n",
    "genuine_obs = banknote_data.loc[banknote_data['Class']==0].index\n",
    "# obtain indices of fraudulent observations in banknote_data\n",
    "fraudulent_obs = banknote_data.loc[banknote_data['Class']==1].index\n",
    "\n",
    "# obtain random sample of genuine observations (we need 610 observations to make the dataset balanced!)\n",
    "genuine_sample_obs = np.random.choice(genuine_obs, 610, replace=False)\n",
    "\n",
    "# concat indices of fraudulent_obs and genuine_sample_obs\n",
    "sample_obs = np.concatenate([genuine_sample_obs, fraudulent_obs])\n",
    "\n",
    "# retrieve balanced data from banknote_data\n",
    "balanced_banknote_data = banknote_data.loc[sample_obs]\n",
    "# shuffle observations in balanced_banknote_data\n",
    "balanced_banknote_data = balanced_banknote_data.sample(frac=1, random_state=10).reset_index(drop=True)\n",
    "\n",
    "# check balanced_banknote_data is balanced through bar plot\n",
    "genuine_obs_count = balanced_banknote_data.loc[balanced_banknote_data['Class']==0, 'Class'].count()\n",
    "fraudulent_obs_count = balanced_banknote_data.loc[balanced_banknote_data['Class']==1, 'Class'].count()\n",
    "# pyplot subplots\n",
    "fig, axes = plt.subplots(figsize=(5, 5))\n",
    "plt.bar(['Genuine', 'Fraudulent'], [genuine_obs_count, fraudulent_obs_count])\n",
    "# assign labels to x-axis and y-axis\n",
    "plt.xlabel('Class')\n",
    "plt.ylabel('Frequency')\n",
    "# adjust spacing properties of subplot\n",
    "fig.subplots_adjust(left=0.15, right=0.95, bottom=0.1, top=0.9,\n",
    "                    hspace=0.2, wspace=0.2)\n",
    "# set title of subplot figure\n",
    "fig.suptitle('Class Distribution')\n",
    "\n",
    "# display heatmap\n",
    "plt.show()"
   ]
  },
  {
   "cell_type": "code",
   "execution_count": 11,
   "metadata": {},
   "outputs": [],
   "source": [
    "# split balanced_banknote_data into train and test set\n",
    "# function for train and test set split\n",
    "def train_test_split(dataset, test_size):\n",
    "    # obtain indices of genuine observations in dataset\n",
    "    genuine_obs = dataset.loc[dataset['Class']==0].index\n",
    "    # obtain indices of fraudulent observations in dataset\n",
    "    fraudulent_obs = dataset.loc[dataset['Class']==1].index\n",
    "    \n",
    "    # obtain random indices for genuine observations that consist for the training set\n",
    "    genuine_train_obs = list(np.random.choice(genuine_obs, int(round(len(genuine_obs)*(1-test_size), 0)), replace=False))\n",
    "    # obtain random indices for fraudulent observations that consist for the training set\n",
    "    fraudulent_train_obs = list(np.random.choice(fraudulent_obs, int(round(len(fraudulent_obs)*(1-test_size), 0)), replace=False))\n",
    "    \n",
    "    # obtain indices for genuine observations that consist for the test set\n",
    "    genuine_test_obs = list(set(genuine_obs)-set(genuine_train_obs))\n",
    "    # obtain indices for fraudulent observations that consist for the test set\n",
    "    fraudulent_test_obs = list(set(fraudulent_obs)-set(fraudulent_train_obs))\n",
    "    \n",
    "    # join genuine_train_obs and fraudulent_train_obs to obtain indices for training set\n",
    "    train_obs = genuine_train_obs + fraudulent_train_obs\n",
    "    # join genuine_test_obs and fraudulent_test_obs to obtain indices for test set\n",
    "    test_obs = genuine_test_obs + fraudulent_test_obs\n",
    "    \n",
    "    # retrieve training set data from dataset and shuffle observations\n",
    "    train_data = dataset.loc[train_obs].reset_index(drop=True)\n",
    "    train_data = train_data.sample(frac=1, random_state=10).reset_index(drop=True)\n",
    "    # retrieve test set date from dataset and shuffle observations\n",
    "    test_data = dataset.loc[test_obs].reset_index(drop=True)\n",
    "    test_data = test_data.sample(frac=1, random_state=10).reset_index(drop=True)\n",
    "    \n",
    "    return train_data, test_data"
   ]
  },
  {
   "cell_type": "code",
   "execution_count": 12,
   "metadata": {},
   "outputs": [],
   "source": [
    "# obtain training and test data using train_test_split function\n",
    "banknote_train_data, banknote_test_data = train_test_split(balanced_banknote_data, 0.25)"
   ]
  },
  {
   "cell_type": "markdown",
   "metadata": {},
   "source": [
    "## Construct Functions for Naïve Bayes Classifier\n",
    "\n",
    "The construction of a Naïve Bayes classifier can be broken down into the following steps:\n",
    "- Separate the training data by class.\n",
    "- Summarize the training data; calculate the mean and standard deviation.\n",
    "- Summarize the training data by class.\n",
    "- Construct a Gaussian Probability Density Function to calculate the likelihood of observing a given predictor.\n",
    "- Calculate class probabilities.\n",
    "\n",
    "Please note that credit is due to Jason Brownlee at [Machine Learning Mastery](https://machinelearningmastery.com/naive-bayes-classifier-scratch-python/)."
   ]
  },
  {
   "cell_type": "code",
   "execution_count": 13,
   "metadata": {},
   "outputs": [],
   "source": [
    "# separate the training data by class\n",
    "def separate_by_class(data):\n",
    "    # create dictionary to store class values and corresponding observations \n",
    "    separated_data = dict()\n",
    "    # loop over data and store observations in separated_data\n",
    "    for i in range(len(data)):\n",
    "        row_vector = data[i]\n",
    "        class_value = row_vector[-1]\n",
    "        if (class_value not in separated_data):\n",
    "            separated_data[class_value] = list()\n",
    "        separated_data[class_value].append(row_vector)\n",
    "    # return dictionary containing data separated by class value\n",
    "    return separated_data"
   ]
  },
  {
   "cell_type": "code",
   "execution_count": 14,
   "metadata": {},
   "outputs": [],
   "source": [
    "# summarize the training data; calculate the mean and standard deviation\n",
    "# function to calculate the mean\n",
    "def mean(data):\n",
    "    # mean calculation\n",
    "    data_mean = sum(data)/float(len(data))\n",
    "    # return data_mean\n",
    "    return data_mean\n",
    "\n",
    "# function to calculate the standard deviation\n",
    "def standard_deviation(data):\n",
    "    # retrieve the mean of data using the mean function above\n",
    "    data_mean = mean(data)\n",
    "    # calculate the variance\n",
    "    data_variance = sum([(x-data_mean)**2 for x in data])/float(len(data)-1)\n",
    "    # calculate the standard deviation from data_variance\n",
    "    data_stdev = sqrt(data_variance)\n",
    "    # returen data_stdev\n",
    "    return data_stdev\n",
    "\n",
    "# combine mean and standard_deviation functions in one function\n",
    "def summarize_data(data):\n",
    "    # store summarized statistics for each predictor in list \n",
    "    summaries = [(mean(column), standard_deviation(column), len(column)) for column in zip(*data)]\n",
    "    # delete last tuple in list as this is for Class column of data\n",
    "    del(summaries[-1])\n",
    "    # return summaries\n",
    "    return summaries\n",
    "\n",
    "# function to create workflow of summarizing data statistics by class\n",
    "def summarize_by_class(data):\n",
    "    # separate the data by class using the separated_data function\n",
    "    separated_data = separate_by_class(data)\n",
    "    # create dictionary to store summarized statistics for each predictor separated by class\n",
    "    summaries = dict()\n",
    "    # loop over observations in separated_data\n",
    "    for class_value, rows in separated_data.items():\n",
    "        # store summarized statistics in summaries dictionary\n",
    "        summaries[class_value] = summarize_data(rows)\n",
    "    # return summaries\n",
    "    return summaries"
   ]
  },
  {
   "cell_type": "code",
   "execution_count": 15,
   "metadata": {},
   "outputs": [],
   "source": [
    "# construct a Gaussian PDF to calculate the likelihood of observing a perdictor value given a class\n",
    "# function to calculate the Gaussian PDF function for a data point\n",
    "def calculate_gaussian_pdf(x, data_mean, data_stdev):\n",
    "    # calculate gaussian probability distribution function\n",
    "    probability = (1/(sqrt(2*pi)*data_stdev)) * exp(-((x-data_mean)**2 / (2*(data_stdev)**2)))\n",
    "    # return probability\n",
    "    return probability"
   ]
  },
  {
   "cell_type": "code",
   "execution_count": 16,
   "metadata": {},
   "outputs": [],
   "source": [
    "# calculate class probabilities\n",
    "# function to calculate class probabilities\n",
    "def calculate_class_probabilities(summaries, row):\n",
    "    # retrieve count of total rows in data\n",
    "    total_rows = sum([summaries[label][0][2] for label in summaries])\n",
    "    # create dictionary to posteiror probabilities of classes\n",
    "    probabilities = dict()\n",
    "    # loop over class values and class summaries in summaries\n",
    "    for class_value, class_summaries in summaries.items():\n",
    "        # calculate prior of class\n",
    "        probabilities[class_value] = summaries[class_value][0][2]/float(total_rows)\n",
    "        # loop over likelihood probabilities for each predictor\n",
    "        for i in range(len(class_summaries)):\n",
    "            data_mean, data_stdev, count = class_summaries[i]\n",
    "            # calculate posterior of class \n",
    "            probabilities[class_value] *= calculate_gaussian_pdf(row[i], data_mean, data_stdev)\n",
    "    # return probabilities\n",
    "    return probabilities"
   ]
  },
  {
   "cell_type": "markdown",
   "metadata": {},
   "source": [
    "## Predictions for Naïve Bayes Classifier\n",
    "\n",
    "In order to make predictions with the Naïve Bayes classifier, we will create a 'predict' function using the calculate_class_probabilities function created in the cell above. Furthermore, we will create a function to fit the training set data (i.e. create the model) and make predictions on the entire test set data; the predictions will be stored in a list for easy reconciliation. "
   ]
  },
  {
   "cell_type": "code",
   "execution_count": 17,
   "metadata": {},
   "outputs": [],
   "source": [
    "# function to predict the class for a given observation\n",
    "def predict_class(summaries, row):\n",
    "    # retrieve class probabilities using calculate_class_probabilities function\n",
    "    probabilities = calculate_class_probabilities(summaries, row)\n",
    "    # set 'tracker' variables to keep track of best probabilities of any one of the two classes\n",
    "    best_label, best_probability = None, -1\n",
    "    # loop over class values and corresponding probabilities in probabilities\n",
    "    for class_value, probability in probabilities.items():\n",
    "        if best_label is None or probability > best_probability:\n",
    "            best_probability = probability\n",
    "            best_label = class_value\n",
    "    # return best_label\n",
    "    return best_label\n",
    "\n",
    "# function to construct model and make predictions\n",
    "def gaussian_naive_bayes(train_data, test_data):\n",
    "    # calcualte essential statistics of the training set data\n",
    "    summarize = summarize_by_class(train_data)\n",
    "    # create list to store predictions made by the model\n",
    "    predictions = list()\n",
    "    # loop over observations in the test set data\n",
    "    for row in test_data:\n",
    "        # use the predict_class function to make predicitons of suitable class labels\n",
    "        output = predict_class(summarize, row)\n",
    "        # add observation's predicted class label to predictions\n",
    "        predictions.append(output)\n",
    "    # return predictions\n",
    "    return predictions"
   ]
  },
  {
   "cell_type": "markdown",
   "metadata": {},
   "source": [
    "## Accuracy Metric\n",
    "\n",
    "To evaluate the (Gaussian) Naïve Bayes classifier, we will create a function that calculates the accuracy of the model. Note that the accuracy will be displayed as a percentage (%)."
   ]
  },
  {
   "cell_type": "code",
   "execution_count": 18,
   "metadata": {},
   "outputs": [],
   "source": [
    "# function to calculate the accuracy percentage of model\n",
    "def accuracy_metric(actual_labels, predicted_labels):\n",
    "    # create variable to store the number of correct predictions\n",
    "    correct_predictions = 0\n",
    "    # loop over data and compare predicted labels and actual labels\n",
    "    for i in range(len(actual_labels)):\n",
    "        # if prediction is correct increment correct_predictions by 1\n",
    "        if actual_labels[i] == predicted_labels[i]:\n",
    "            correct_predictions += 1\n",
    "    # calculate prediction accuracy\n",
    "    accuracy = correct_predictions/float(len(actual_labels)) * 100\n",
    "    # return accuracy\n",
    "    return accuracy"
   ]
  },
  {
   "cell_type": "markdown",
   "metadata": {},
   "source": [
    "## K-fold Cross Validation\n",
    "\n",
    "To ensure that the (Gaussian) Naïve Bayes classifier generalizes to the dataset, we will build a function to conduct k-fold cross validation."
   ]
  },
  {
   "cell_type": "code",
   "execution_count": 19,
   "metadata": {},
   "outputs": [],
   "source": [
    "# function to split dataset into k folds\n",
    "def k_fold_cross_val_split(data, n_folds):\n",
    "    # create a list to store data for the relevant dataset split\n",
    "    dataset_split = list()\n",
    "    # copy data into a list\n",
    "    dataset_copy = list(data)\n",
    "    # calculate the data fold size\n",
    "    fold_size = int(len(data)/n_folds)\n",
    "    # loop over folds of data\n",
    "    for _ in range(n_folds):\n",
    "        # create new list to store fold data\n",
    "        fold = list()\n",
    "        while len(fold) < fold_size:\n",
    "            index = random.randrange(len(dataset_copy))\n",
    "            # note that pop removes a item in a given list and returns that specific item\n",
    "            fold.append(dataset_copy.pop(index))\n",
    "        dataset_split.append(fold)\n",
    "    # return dataset_split\n",
    "    return dataset_split"
   ]
  },
  {
   "cell_type": "markdown",
   "metadata": {},
   "source": [
    "## Evaluating the Naïve Bayes Classifier\n",
    "\n",
    "The final step is to construst a function to evaluate the cross validation performance of the Naïve Bayes classifier using the functions that have been formed in the code above. Note: As we are only using the training data (banknote_train_data) here as we are using the k-fold cross validation to split between individual train and test sets."
   ]
  },
  {
   "cell_type": "code",
   "execution_count": 20,
   "metadata": {},
   "outputs": [],
   "source": [
    "# function to evaluate naive bayes classifier\n",
    "def evaluate_algorithm(data, algorithm, n_folds, *args):\n",
    "    # split data into k folds using cross validation functiom\n",
    "\tfolds = k_fold_cross_val_split(data, n_folds)\n",
    "    # create list to store accuracy scores\n",
    "\taccuracy_scores = list()\n",
    "    # loop over data in folds \n",
    "\tfor fold in folds:\n",
    "        # store data in train set\n",
    "\t\ttrain_set_data = list(folds)\n",
    "        # remove one fold for test set (validation)\n",
    "\t\ttrain_set_data.remove(fold)\n",
    "\t\ttrain_set_data = sum(train_set_data, [])\n",
    "        # create list to store test set data observations\n",
    "\t\ttest_set_data = list()\n",
    "        # loop over observations in fold comprimising of test set data\n",
    "\t\tfor row in fold:\n",
    "            # copy observation to list\n",
    "\t\t\trow_copy = list(row)\n",
    "            # add observation to test_set_data \n",
    "\t\t\ttest_set_data.append(row_copy)\n",
    "            # remove the class label of the observation for testing\n",
    "\t\t\trow_copy[-1] = None\n",
    "        # retrieve predicted class labels for test_set_data\n",
    "\t\tpredicted_labels = algorithm(train_set_data, test_set_data, *args)\n",
    "        # retrieve correct class labels\n",
    "\t\tactual_labels = [row[-1] for row in fold]\n",
    "        # calculate accuracy percentage of fold\n",
    "\t\taccuracy = accuracy_metric(actual_labels, predicted_labels)\n",
    "        # add accuracy percentage to accuracy_scores\n",
    "\t\taccuracy_scores.append(accuracy)\n",
    "    # return accuracy scores\n",
    "\treturn accuracy_scores"
   ]
  },
  {
   "cell_type": "code",
   "execution_count": 21,
   "metadata": {},
   "outputs": [
    {
     "name": "stdout",
     "output_type": "stream",
     "text": [
      "Model scores: [91.20879120879121, 83.51648351648352, 72.52747252747253, 90.10989010989012, 83.51648351648352, 90.10989010989012, 80.21978021978022, 78.02197802197803, 82.41758241758241, 85.71428571428571]\n",
      "Mean accuracy of model: 83.736%\n"
     ]
    }
   ],
   "source": [
    "# evaluate naive bayes classifier using 10-fold cross validation\n",
    "model_scores = evaluate_algorithm(banknote_train_data.values.tolist(), gaussian_naive_bayes, 10)\n",
    "# display model_scores\n",
    "print('Model scores: %s' %(model_scores))\n",
    "\n",
    "# calculate mean accuracy of model\n",
    "mean_accuracy = sum(model_scores)/float(len(model_scores))\n",
    "# display mean_accuracy\n",
    "print('Mean accuracy of model: %.3f%%' %(mean_accuracy))"
   ]
  },
  {
   "cell_type": "markdown",
   "metadata": {},
   "source": [
    "## Evaluating the Naïve Bayes Classifier (Using Test Set)\n",
    "\n",
    "In the code above we only used the banknote_train_data to train and test our (Gaussian) Naïve Bayes classifier; this was done because we used 10-fold cross validation. Now we will train a Naïve Bayes classifier on the whole banknote_train_data and test on banknote_test_data."
   ]
  },
  {
   "cell_type": "code",
   "execution_count": 22,
   "metadata": {},
   "outputs": [
    {
     "name": "stdout",
     "output_type": "stream",
     "text": [
      "Prediction accuracy on test set data: 85.197%\n"
     ]
    }
   ],
   "source": [
    "# train (fit) a naive bayes classifier on the banknote_train_data\n",
    "training_set = banknote_train_data.values.tolist()\n",
    "model = summarize_by_class(training_set)\n",
    "\n",
    "# test model on banknote_test_data and calculate prediction accuracy\n",
    "test_set = banknote_test_data.values.tolist()\n",
    "# create 'tracker' variable to track correct number of predictions\n",
    "correct_predictions = 0\n",
    "# loop over observations in test_set\n",
    "for i in range(len(test_set)):\n",
    "    # predict label for test_set observation using predict_class function\n",
    "    predicted_label = predict_class(model, test_set[i][0:4])\n",
    "    # retrieve actual label for test_set observation\n",
    "    actual_label = test_set[i][-1]\n",
    "    # if predicted and actual labels are identical increment correct_predictions by 1\n",
    "    if predicted_label == actual_label:\n",
    "        correct_predictions += 1\n",
    "\n",
    "# calculate prediction accuracy on test_set\n",
    "prediction_accuracy = correct_predictions/float(len(test_set)) *100\n",
    "# display prediction_accuracy\n",
    "print('Prediction accuracy on test set data: %.3f%%' %(prediction_accuracy))"
   ]
  }
 ],
 "metadata": {
  "kernelspec": {
   "display_name": "Python 3",
   "language": "python",
   "name": "python3"
  },
  "language_info": {
   "codemirror_mode": {
    "name": "ipython",
    "version": 3
   },
   "file_extension": ".py",
   "mimetype": "text/x-python",
   "name": "python",
   "nbconvert_exporter": "python",
   "pygments_lexer": "ipython3",
   "version": "3.7.4"
  }
 },
 "nbformat": 4,
 "nbformat_minor": 4
}
